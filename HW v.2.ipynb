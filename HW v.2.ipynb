{
 "cells": [
  {
   "cell_type": "code",
   "execution_count": 235,
   "id": "40977360",
   "metadata": {},
   "outputs": [],
   "source": [
    "!pip install -q -U kaggle_environments"
   ]
  },
  {
   "cell_type": "code",
   "execution_count": 236,
   "id": "8ed99e9a",
   "metadata": {},
   "outputs": [],
   "source": [
    "import numpy as np\n",
    "import pandas as pd\n",
    "import random\n",
    "\n",
    "\n",
    "import matplotlib.pyplot as plt\n",
    "import seaborn as sns\n",
    "\n",
    "from kaggle_environments import make, evaluate"
   ]
  },
  {
   "cell_type": "code",
   "execution_count": 237,
   "id": "fe26a4c1",
   "metadata": {},
   "outputs": [
    {
     "name": "stdout",
     "output_type": "stream",
     "text": [
      "Overwriting rock.py\n"
     ]
    }
   ],
   "source": [
    "%%writefile rock.py\n",
    "#always \"rock\"\n",
    "def rock(observation, configuration):\n",
    "    return 0\n"
   ]
  },
  {
   "cell_type": "code",
   "execution_count": 238,
   "id": "5458d523",
   "metadata": {},
   "outputs": [
    {
     "name": "stdout",
     "output_type": "stream",
     "text": [
      "Overwriting paper.py\n"
     ]
    }
   ],
   "source": [
    "%%writefile paper.py\n",
    "#always \"paper\"\n",
    "def paper(observation, configuration):\n",
    "    return 1\n"
   ]
  },
  {
   "cell_type": "code",
   "execution_count": 239,
   "id": "8007e2a8",
   "metadata": {},
   "outputs": [
    {
     "name": "stdout",
     "output_type": "stream",
     "text": [
      "Overwriting scissors.py\n"
     ]
    }
   ],
   "source": [
    "%%writefile scissors.py\n",
    "#always \"scissors\"\n",
    "def scissors(observation, configuration):\n",
    "    return 2"
   ]
  },
  {
   "cell_type": "code",
   "execution_count": 240,
   "id": "01ed6668",
   "metadata": {},
   "outputs": [
    {
     "name": "stdout",
     "output_type": "stream",
     "text": [
      "Overwriting rand.py\n"
     ]
    }
   ],
   "source": [
    "%%writefile rand.py\n",
    "#random\n",
    "import random\n",
    "\n",
    "def rand(observation, configuration):\n",
    "    return random.randrange(0, 3)"
   ]
  },
  {
   "cell_type": "code",
   "execution_count": 241,
   "id": "d641fafe",
   "metadata": {},
   "outputs": [
    {
     "name": "stdout",
     "output_type": "stream",
     "text": [
      "Overwriting random_r_or_p.py\n"
     ]
    }
   ],
   "source": [
    "%%writefile random_r_or_p.py\n",
    "#random \"rock\" or \"paper\"\n",
    "import random\n",
    "\n",
    "def rand(observation, configuration):\n",
    "    return random.randrange(0, 2)"
   ]
  },
  {
   "cell_type": "code",
   "execution_count": 242,
   "id": "53c78b82",
   "metadata": {},
   "outputs": [
    {
     "name": "stdout",
     "output_type": "stream",
     "text": [
      "Overwriting random_s_or_p.py\n"
     ]
    }
   ],
   "source": [
    "%%writefile random_s_or_p.py\n",
    "#random \"scissors\" or \"paper\"\n",
    "import random\n",
    "\n",
    "def rand(observation, configuration):\n",
    "    return random.randrange(1, 3)"
   ]
  },
  {
   "cell_type": "code",
   "execution_count": 243,
   "id": "de2fba63",
   "metadata": {},
   "outputs": [
    {
     "name": "stdout",
     "output_type": "stream",
     "text": [
      "Overwriting random_s_or_r.py\n"
     ]
    }
   ],
   "source": [
    "%%writefile random_s_or_r.py\n",
    "#random \"scissors\" or \"rock\"\n",
    "import random\n",
    "\n",
    "def rand(observation, configuration):\n",
    "    return random.choice([0, 2])"
   ]
  },
  {
   "cell_type": "code",
   "execution_count": 244,
   "id": "b6824069",
   "metadata": {},
   "outputs": [
    {
     "name": "stdout",
     "output_type": "stream",
     "text": [
      "Overwriting copy_opponent.py\n"
     ]
    }
   ],
   "source": [
    "%%writefile copy_opponent.py\n",
    "import random\n",
    "\n",
    "def copy_opponent(observation, configuration):\n",
    "    if observation.step > 0:       \n",
    "        return observation.lastOpponentAction\n",
    "    else:  \n",
    "        return random.randrange(0, configuration.signs)"
   ]
  },
  {
   "cell_type": "code",
   "execution_count": 245,
   "id": "a4de3815",
   "metadata": {},
   "outputs": [
    {
     "name": "stdout",
     "output_type": "stream",
     "text": [
      "Overwriting statistical.py\n"
     ]
    }
   ],
   "source": [
    "%%writefile statistical.py\n",
    "import random\n",
    "action_histogram = {}\n",
    "\n",
    "\n",
    "def statistical(observation, configuration):\n",
    "    global action_histogram\n",
    "    if observation.step == 0:\n",
    "        action_histogram = {}\n",
    "        return\n",
    "    action = observation.lastOpponentAction\n",
    "    if action not in action_histogram:\n",
    "        action_histogram[action] = 0\n",
    "    action_histogram[action] += 1\n",
    "    mode_action = None\n",
    "    mode_action_count = None\n",
    "    for k, v in action_histogram.items():\n",
    "        if mode_action_count is None or v > mode_action_count:\n",
    "            mode_action = k\n",
    "            mode_action_count = v\n",
    "            continue\n",
    "\n",
    "    return (mode_action + 1) % configuration.signs"
   ]
  },
  {
   "cell_type": "code",
   "execution_count": 246,
   "id": "7dddb92b",
   "metadata": {},
   "outputs": [
    {
     "data": {
      "text/plain": [
       "[[-47.0, 47.0]]"
      ]
     },
     "execution_count": 246,
     "metadata": {},
     "output_type": "execute_result"
    }
   ],
   "source": [
    "evaluate(\n",
    "    \"rps\", \n",
    "    [\"scissors.py\", \"random_s_or_r.py\"], \n",
    "    configuration={\"episodeSteps\": 100}\n",
    ")"
   ]
  },
  {
   "cell_type": "code",
   "execution_count": 247,
   "id": "54622c81",
   "metadata": {},
   "outputs": [],
   "source": [
    "list_names = [\n",
    "    \"rock\", \n",
    "    \"paper\", \n",
    "    \"scissors\",\n",
    "    \"rand\",  \n",
    "    \"random_r_or_p\", \n",
    "    \"random_s_or_p\", \n",
    "    \"random_s_or_r\", \n",
    "    \"copy_opponent\",\n",
    "    \"statistical\", \n",
    "]\n",
    "\n",
    "list_agents = [agent_name + \".py\" for agent_name in list_names]\n",
    "\n",
    "scores = 0\n",
    "\n",
    "df_scores = pd.DataFrame(\n",
    "    scores, \n",
    "    index=list_names, \n",
    "    columns=list_names,\n",
    ")"
   ]
  },
  {
   "cell_type": "code",
   "execution_count": 248,
   "id": "fdb0d649",
   "metadata": {},
   "outputs": [
    {
     "name": "stdout",
     "output_type": "stream",
     "text": [
      "LOG: copy_opponent vs statisticalnt\r"
     ]
    },
    {
     "data": {
      "text/html": [
       "<div>\n",
       "<style scoped>\n",
       "    .dataframe tbody tr th:only-of-type {\n",
       "        vertical-align: middle;\n",
       "    }\n",
       "\n",
       "    .dataframe tbody tr th {\n",
       "        vertical-align: top;\n",
       "    }\n",
       "\n",
       "    .dataframe thead th {\n",
       "        text-align: right;\n",
       "    }\n",
       "</style>\n",
       "<table border=\"1\" class=\"dataframe\">\n",
       "  <thead>\n",
       "    <tr style=\"text-align: right;\">\n",
       "      <th></th>\n",
       "      <th>rock</th>\n",
       "      <th>paper</th>\n",
       "      <th>scissors</th>\n",
       "      <th>rand</th>\n",
       "      <th>random_r_or_p</th>\n",
       "      <th>random_s_or_p</th>\n",
       "      <th>random_s_or_r</th>\n",
       "      <th>copy_opponent</th>\n",
       "      <th>statistical</th>\n",
       "    </tr>\n",
       "  </thead>\n",
       "  <tbody>\n",
       "    <tr>\n",
       "      <th>rock</th>\n",
       "      <td>0</td>\n",
       "      <td>999</td>\n",
       "      <td>-999</td>\n",
       "      <td>0</td>\n",
       "      <td>499</td>\n",
       "      <td>21</td>\n",
       "      <td>-480</td>\n",
       "      <td>0</td>\n",
       "      <td>998</td>\n",
       "    </tr>\n",
       "    <tr>\n",
       "      <th>paper</th>\n",
       "      <td>-999</td>\n",
       "      <td>0</td>\n",
       "      <td>999</td>\n",
       "      <td>-44</td>\n",
       "      <td>-496</td>\n",
       "      <td>511</td>\n",
       "      <td>-27</td>\n",
       "      <td>0</td>\n",
       "      <td>997</td>\n",
       "    </tr>\n",
       "    <tr>\n",
       "      <th>scissors</th>\n",
       "      <td>999</td>\n",
       "      <td>-999</td>\n",
       "      <td>0</td>\n",
       "      <td>-44</td>\n",
       "      <td>0</td>\n",
       "      <td>-510</td>\n",
       "      <td>482</td>\n",
       "      <td>0</td>\n",
       "      <td>999</td>\n",
       "    </tr>\n",
       "    <tr>\n",
       "      <th>rand</th>\n",
       "      <td>0</td>\n",
       "      <td>44</td>\n",
       "      <td>44</td>\n",
       "      <td>0</td>\n",
       "      <td>-27</td>\n",
       "      <td>26</td>\n",
       "      <td>-28</td>\n",
       "      <td>0</td>\n",
       "      <td>0</td>\n",
       "    </tr>\n",
       "    <tr>\n",
       "      <th>random_r_or_p</th>\n",
       "      <td>-499</td>\n",
       "      <td>496</td>\n",
       "      <td>0</td>\n",
       "      <td>27</td>\n",
       "      <td>0</td>\n",
       "      <td>210</td>\n",
       "      <td>-245</td>\n",
       "      <td>0</td>\n",
       "      <td>78</td>\n",
       "    </tr>\n",
       "    <tr>\n",
       "      <th>random_s_or_p</th>\n",
       "      <td>-21</td>\n",
       "      <td>-511</td>\n",
       "      <td>510</td>\n",
       "      <td>-26</td>\n",
       "      <td>-210</td>\n",
       "      <td>0</td>\n",
       "      <td>217</td>\n",
       "      <td>0</td>\n",
       "      <td>530</td>\n",
       "    </tr>\n",
       "    <tr>\n",
       "      <th>random_s_or_r</th>\n",
       "      <td>480</td>\n",
       "      <td>27</td>\n",
       "      <td>-482</td>\n",
       "      <td>28</td>\n",
       "      <td>245</td>\n",
       "      <td>-217</td>\n",
       "      <td>0</td>\n",
       "      <td>0</td>\n",
       "      <td>393</td>\n",
       "    </tr>\n",
       "    <tr>\n",
       "      <th>copy_opponent</th>\n",
       "      <td>0</td>\n",
       "      <td>0</td>\n",
       "      <td>0</td>\n",
       "      <td>0</td>\n",
       "      <td>0</td>\n",
       "      <td>0</td>\n",
       "      <td>0</td>\n",
       "      <td>0</td>\n",
       "      <td>201</td>\n",
       "    </tr>\n",
       "    <tr>\n",
       "      <th>statistical</th>\n",
       "      <td>-998</td>\n",
       "      <td>-997</td>\n",
       "      <td>-999</td>\n",
       "      <td>0</td>\n",
       "      <td>-78</td>\n",
       "      <td>-530</td>\n",
       "      <td>-393</td>\n",
       "      <td>-201</td>\n",
       "      <td>0</td>\n",
       "    </tr>\n",
       "  </tbody>\n",
       "</table>\n",
       "</div>"
      ],
      "text/plain": [
       "               rock  paper  scissors  rand  random_r_or_p  random_s_or_p  \\\n",
       "rock              0    999      -999     0            499             21   \n",
       "paper          -999      0       999   -44           -496            511   \n",
       "scissors        999   -999         0   -44              0           -510   \n",
       "rand              0     44        44     0            -27             26   \n",
       "random_r_or_p  -499    496         0    27              0            210   \n",
       "random_s_or_p   -21   -511       510   -26           -210              0   \n",
       "random_s_or_r   480     27      -482    28            245           -217   \n",
       "copy_opponent     0      0         0     0              0              0   \n",
       "statistical    -998   -997      -999     0            -78           -530   \n",
       "\n",
       "               random_s_or_r  copy_opponent  statistical  \n",
       "rock                    -480              0          998  \n",
       "paper                    -27              0          997  \n",
       "scissors                 482              0          999  \n",
       "rand                     -28              0            0  \n",
       "random_r_or_p           -245              0           78  \n",
       "random_s_or_p            217              0          530  \n",
       "random_s_or_r              0              0          393  \n",
       "copy_opponent              0              0          201  \n",
       "statistical             -393           -201            0  "
      ]
     },
     "execution_count": 248,
     "metadata": {},
     "output_type": "execute_result"
    }
   ],
   "source": [
    "for i in range(len(list_names)):\n",
    "    for j in range(i + 1, len(list_names)):\n",
    "        print(\n",
    "            f\"LOG: {list_names[i]} vs {list_names[j]}\", \n",
    "            end=\"\\r\"\n",
    "        )\n",
    "        \n",
    "        current_score = evaluate(\n",
    "            \"rps\", \n",
    "            [list_agents[i], list_agents[j]], \n",
    "            configuration={\"episodeSteps\": 1000}\n",
    "        )\n",
    "        \n",
    "        df_scores[list_names[i]][list_names[j]] = current_score[0][0]\n",
    "        df_scores[list_names[j]][list_names[i]] = current_score[0][1]\n",
    "\n",
    "df_scores"
   ]
  },
  {
   "cell_type": "code",
   "execution_count": null,
   "id": "7a2d0df9",
   "metadata": {},
   "outputs": [],
   "source": []
  }
 ],
 "metadata": {
  "kernelspec": {
   "display_name": "Python 3 (ipykernel)",
   "language": "python",
   "name": "python3"
  },
  "language_info": {
   "codemirror_mode": {
    "name": "ipython",
    "version": 3
   },
   "file_extension": ".py",
   "mimetype": "text/x-python",
   "name": "python",
   "nbconvert_exporter": "python",
   "pygments_lexer": "ipython3",
   "version": "3.9.12"
  }
 },
 "nbformat": 4,
 "nbformat_minor": 5
}
