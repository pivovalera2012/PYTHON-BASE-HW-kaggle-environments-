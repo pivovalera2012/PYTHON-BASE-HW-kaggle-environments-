{
 "cells": [
  {
   "cell_type": "code",
   "execution_count": 49,
   "id": "1310362e",
   "metadata": {},
   "outputs": [],
   "source": [
    "!pip install -q -U kaggle_environments"
   ]
  },
  {
   "cell_type": "code",
   "execution_count": 229,
   "id": "0b313c05",
   "metadata": {},
   "outputs": [
    {
     "name": "stdout",
     "output_type": "stream",
     "text": [
      "^C\n",
      "Note: you may need to restart the kernel to use updated packages.\n"
     ]
    }
   ],
   "source": []
  },
  {
   "cell_type": "code",
   "execution_count": 50,
   "id": "51932ffe",
   "metadata": {},
   "outputs": [],
   "source": [
    "import numpy as np\n",
    "import pandas as pd\n",
    "import random\n",
    "\n",
    "\n",
    "import matplotlib.pyplot as plt\n",
    "import seaborn as sns\n",
    "\n",
    "from kaggle_environments import make, evaluate"
   ]
  },
  {
   "cell_type": "code",
   "execution_count": 194,
   "id": "6a222ca1",
   "metadata": {},
   "outputs": [
    {
     "name": "stdout",
     "output_type": "stream",
     "text": [
      "Overwriting rock.py\n"
     ]
    }
   ],
   "source": [
    "%%writefile rock.py\n",
    "#always \"rock\"\n",
    "def rock(observation, configuration):\n",
    "    return 0\n"
   ]
  },
  {
   "cell_type": "code",
   "execution_count": 195,
   "id": "8de7c3f6",
   "metadata": {},
   "outputs": [
    {
     "name": "stdout",
     "output_type": "stream",
     "text": [
      "Overwriting paper.py\n"
     ]
    }
   ],
   "source": [
    "%%writefile paper.py\n",
    "#always \"paper\"\n",
    "def paper(observation, configuration):\n",
    "    return 1\n"
   ]
  },
  {
   "cell_type": "code",
   "execution_count": 196,
   "id": "1b0d8b34",
   "metadata": {},
   "outputs": [
    {
     "name": "stdout",
     "output_type": "stream",
     "text": [
      "Overwriting scissors.py\n"
     ]
    }
   ],
   "source": [
    "%%writefile scissors.py\n",
    "#always \"scissors\"\n",
    "def scissors(observation, configuration):\n",
    "    return 2"
   ]
  },
  {
   "cell_type": "code",
   "execution_count": 198,
   "id": "2856c83d",
   "metadata": {},
   "outputs": [
    {
     "name": "stdout",
     "output_type": "stream",
     "text": [
      "Overwriting rand.py\n"
     ]
    }
   ],
   "source": [
    "%%writefile rand.py\n",
    "#random\n",
    "import random\n",
    "\n",
    "def rand(observation, configuration):\n",
    "    return random.randrange(0, 3)"
   ]
  },
  {
   "cell_type": "code",
   "execution_count": 199,
   "id": "d464487a",
   "metadata": {},
   "outputs": [
    {
     "name": "stdout",
     "output_type": "stream",
     "text": [
      "Writing random_r_or_p.py\n"
     ]
    }
   ],
   "source": [
    "%%writefile random_r_or_p.py\n",
    "#random \"rock\" or \"paper\"\n",
    "import random\n",
    "\n",
    "def rand(observation, configuration):\n",
    "    return random.randrange(0, 2)"
   ]
  },
  {
   "cell_type": "code",
   "execution_count": 200,
   "id": "a970cb3f",
   "metadata": {},
   "outputs": [
    {
     "name": "stdout",
     "output_type": "stream",
     "text": [
      "Writing random_s_or_p.py\n"
     ]
    }
   ],
   "source": [
    "%%writefile random_s_or_p.py\n",
    "#random \"scissors\" or \"paper\"\n",
    "import random\n",
    "\n",
    "def rand(observation, configuration):\n",
    "    return random.randrange(1, 3)"
   ]
  },
  {
   "cell_type": "code",
   "execution_count": 202,
   "id": "55850df8",
   "metadata": {},
   "outputs": [
    {
     "name": "stdout",
     "output_type": "stream",
     "text": [
      "Writing random_s_or_r.py\n"
     ]
    }
   ],
   "source": [
    "%%writefile random_s_or_r.py\n",
    "#random \"scissors\" or \"rock\"\n",
    "import random\n",
    "\n",
    "def rand(observation, configuration):\n",
    "    return random.choice([0, 2])"
   ]
  },
  {
   "cell_type": "code",
   "execution_count": 165,
   "id": "ad749381",
   "metadata": {},
   "outputs": [
    {
     "name": "stdout",
     "output_type": "stream",
     "text": [
      "Overwriting copy_opponent.py\n"
     ]
    }
   ],
   "source": [
    "%%writefile copy_opponent.py\n",
    "import random\n",
    "\n",
    "def copy_opponent(observation, configuration):\n",
    "    if observation.step > 0:       \n",
    "        return observation.lastOpponentAction\n",
    "    else:  \n",
    "        return random.randrange(0, configuration.signs)"
   ]
  },
  {
   "cell_type": "code",
   "execution_count": null,
   "id": "6fa4cdaa",
   "metadata": {},
   "outputs": [],
   "source": []
  },
  {
   "cell_type": "code",
   "execution_count": 230,
   "id": "9e66fc9f",
   "metadata": {},
   "outputs": [
    {
     "name": "stdout",
     "output_type": "stream",
     "text": [
      "Overwriting reactionary.py\n",
      "Collecting python-utils\n",
      "  Downloading python_utils-3.3.3-py2.py3-none-any.whl (23 kB)\n",
      "Installing collected packages: python-utils\n",
      "Successfully installed python-utils-3.3.3\n"
     ]
    }
   ],
   "source": [
    "%%writefile reactionary.py\n",
    "import random\n",
    "from utils import get_score\n",
    "\n",
    "last_react_action = None\n",
    "\n",
    "\n",
    "def reactionary(observation, configuration):\n",
    "    global last_react_action\n",
    "    if observation.step == 0:\n",
    "        last_react_action = random.randrange(0, configuration.signs)\n",
    "    elif get_score(last_react_action, observation.lastOpponentAction) <= 1:\n",
    "        last_react_action = (observation.lastOpponentAction + 1) % configuration.signs\n",
    "\n",
    "    return last_react_action"
   ]
  },
  {
   "cell_type": "code",
   "execution_count": 185,
   "id": "7b23b960",
   "metadata": {},
   "outputs": [
    {
     "name": "stdout",
     "output_type": "stream",
     "text": [
      "Overwriting counter_reactionary.py\n"
     ]
    }
   ],
   "source": [
    "%%writefile counter_reactionary.py\n",
    "\n",
    "import random\n",
    "\n",
    "\n",
    "from kaggle_environments import make, evaluate\n",
    "\n",
    "\n",
    "last_counter_action = None\n",
    "\n",
    "\n",
    "def counter_reactionary(observation, configuration):\n",
    "    global last_counter_action\n",
    "    if observation.step == 0:\n",
    "        last_counter_action = random.randrange(0, configuration.signs)\n",
    "    elif get_score(last_counter_action, observation.lastOpponentAction) == 1:\n",
    "        last_counter_action = (last_counter_action + 2) % configuration.signs\n",
    "    else:\n",
    "        last_counter_action = (observation.lastOpponentAction + 1) % configuration.signs\n",
    "\n",
    "    return last_counter_action"
   ]
  },
  {
   "cell_type": "code",
   "execution_count": 192,
   "id": "881d1523",
   "metadata": {},
   "outputs": [
    {
     "name": "stdout",
     "output_type": "stream",
     "text": [
      "Writing statistical.py\n"
     ]
    }
   ],
   "source": [
    "%%writefile statistical.py\n",
    "import random\n",
    "action_histogram = {}\n",
    "\n",
    "\n",
    "def statistical(observation, configuration):\n",
    "    global action_histogram\n",
    "    if observation.step == 0:\n",
    "        action_histogram = {}\n",
    "        return\n",
    "    action = observation.lastOpponentAction\n",
    "    if action not in action_histogram:\n",
    "        action_histogram[action] = 0\n",
    "    action_histogram[action] += 1\n",
    "    mode_action = None\n",
    "    mode_action_count = None\n",
    "    for k, v in action_histogram.items():\n",
    "        if mode_action_count is None or v > mode_action_count:\n",
    "            mode_action = k\n",
    "            mode_action_count = v\n",
    "            continue\n",
    "\n",
    "    return (mode_action + 1) % configuration.signs"
   ]
  },
  {
   "cell_type": "code",
   "execution_count": 231,
   "id": "bbf941b2",
   "metadata": {},
   "outputs": [
    {
     "data": {
      "text/plain": [
       "[[1, None]]"
      ]
     },
     "execution_count": 231,
     "metadata": {},
     "output_type": "execute_result"
    }
   ],
   "source": [
    "evaluate(\n",
    "    \"rps\", \n",
    "    [\"rock.py\", \"reactionary.py\"], \n",
    "    configuration={\"episodeSteps\": 100}\n",
    ")"
   ]
  },
  {
   "cell_type": "code",
   "execution_count": 184,
   "id": "1e11ed26",
   "metadata": {},
   "outputs": [
    {
     "data": {
      "text/plain": [
       "[[None, None]]"
      ]
     },
     "execution_count": 184,
     "metadata": {},
     "output_type": "execute_result"
    }
   ],
   "source": [
    "evaluate(\n",
    "    \"rps\", \n",
    "    [\"counter_reactionary.py\", \"counter_reactionary.py\"], \n",
    "    configuration={\"episodeSteps\": 100}\n",
    ")"
   ]
  },
  {
   "cell_type": "code",
   "execution_count": null,
   "id": "b79a399e",
   "metadata": {},
   "outputs": [],
   "source": []
  },
  {
   "cell_type": "code",
   "execution_count": 223,
   "id": "259dbbed",
   "metadata": {},
   "outputs": [],
   "source": [
    "list_names = [\n",
    "    \"rock\", \n",
    "    \"paper\", \n",
    "    \"scissors\",\n",
    "    \"rand\",  \n",
    "    \"random_r_or_p\", \n",
    "    \"random_s_or_p\", \n",
    "    \"random_s_or_r\", \n",
    "    \"copy_opponent\",\n",
    "    \"statistical\", \n",
    "]\n",
    "# \"counter_reactionary\",\"reactionary\"\n",
    "list_agents = [agent_name + \".py\" for agent_name in list_names]\n",
    "\n",
    "scores = 0\n",
    "\n",
    "df_scores = pd.DataFrame(\n",
    "    scores, \n",
    "    index=list_names, \n",
    "    columns=list_names,\n",
    ")"
   ]
  },
  {
   "cell_type": "code",
   "execution_count": 226,
   "id": "93ed15b2",
   "metadata": {},
   "outputs": [
    {
     "name": "stdout",
     "output_type": "stream",
     "text": [
      "LOG: copy_opponent vs statisticalnt\r"
     ]
    },
    {
     "data": {
      "text/html": [
       "<div>\n",
       "<style scoped>\n",
       "    .dataframe tbody tr th:only-of-type {\n",
       "        vertical-align: middle;\n",
       "    }\n",
       "\n",
       "    .dataframe tbody tr th {\n",
       "        vertical-align: top;\n",
       "    }\n",
       "\n",
       "    .dataframe thead th {\n",
       "        text-align: right;\n",
       "    }\n",
       "</style>\n",
       "<table border=\"1\" class=\"dataframe\">\n",
       "  <thead>\n",
       "    <tr style=\"text-align: right;\">\n",
       "      <th></th>\n",
       "      <th>rock</th>\n",
       "      <th>paper</th>\n",
       "      <th>scissors</th>\n",
       "      <th>rand</th>\n",
       "      <th>random_r_or_p</th>\n",
       "      <th>random_s_or_p</th>\n",
       "      <th>random_s_or_r</th>\n",
       "      <th>copy_opponent</th>\n",
       "      <th>statistical</th>\n",
       "    </tr>\n",
       "  </thead>\n",
       "  <tbody>\n",
       "    <tr>\n",
       "      <th>rock</th>\n",
       "      <td>0</td>\n",
       "      <td>999</td>\n",
       "      <td>-999</td>\n",
       "      <td>24</td>\n",
       "      <td>504</td>\n",
       "      <td>23</td>\n",
       "      <td>-526</td>\n",
       "      <td>0</td>\n",
       "      <td>998</td>\n",
       "    </tr>\n",
       "    <tr>\n",
       "      <th>paper</th>\n",
       "      <td>-999</td>\n",
       "      <td>0</td>\n",
       "      <td>999</td>\n",
       "      <td>-22</td>\n",
       "      <td>-510</td>\n",
       "      <td>519</td>\n",
       "      <td>-21</td>\n",
       "      <td>0</td>\n",
       "      <td>997</td>\n",
       "    </tr>\n",
       "    <tr>\n",
       "      <th>scissors</th>\n",
       "      <td>999</td>\n",
       "      <td>-999</td>\n",
       "      <td>0</td>\n",
       "      <td>0</td>\n",
       "      <td>0</td>\n",
       "      <td>-520</td>\n",
       "      <td>505</td>\n",
       "      <td>0</td>\n",
       "      <td>999</td>\n",
       "    </tr>\n",
       "    <tr>\n",
       "      <th>rand</th>\n",
       "      <td>-24</td>\n",
       "      <td>22</td>\n",
       "      <td>0</td>\n",
       "      <td>0</td>\n",
       "      <td>-56</td>\n",
       "      <td>0</td>\n",
       "      <td>-30</td>\n",
       "      <td>0</td>\n",
       "      <td>33</td>\n",
       "    </tr>\n",
       "    <tr>\n",
       "      <th>random_r_or_p</th>\n",
       "      <td>-504</td>\n",
       "      <td>510</td>\n",
       "      <td>0</td>\n",
       "      <td>56</td>\n",
       "      <td>0</td>\n",
       "      <td>304</td>\n",
       "      <td>-228</td>\n",
       "      <td>0</td>\n",
       "      <td>256</td>\n",
       "    </tr>\n",
       "    <tr>\n",
       "      <th>random_s_or_p</th>\n",
       "      <td>-23</td>\n",
       "      <td>-519</td>\n",
       "      <td>520</td>\n",
       "      <td>0</td>\n",
       "      <td>-304</td>\n",
       "      <td>0</td>\n",
       "      <td>282</td>\n",
       "      <td>0</td>\n",
       "      <td>37</td>\n",
       "    </tr>\n",
       "    <tr>\n",
       "      <th>random_s_or_r</th>\n",
       "      <td>526</td>\n",
       "      <td>21</td>\n",
       "      <td>-505</td>\n",
       "      <td>30</td>\n",
       "      <td>228</td>\n",
       "      <td>-282</td>\n",
       "      <td>0</td>\n",
       "      <td>0</td>\n",
       "      <td>446</td>\n",
       "    </tr>\n",
       "    <tr>\n",
       "      <th>copy_opponent</th>\n",
       "      <td>0</td>\n",
       "      <td>0</td>\n",
       "      <td>0</td>\n",
       "      <td>0</td>\n",
       "      <td>0</td>\n",
       "      <td>0</td>\n",
       "      <td>0</td>\n",
       "      <td>0</td>\n",
       "      <td>247</td>\n",
       "    </tr>\n",
       "    <tr>\n",
       "      <th>statistical</th>\n",
       "      <td>-998</td>\n",
       "      <td>-997</td>\n",
       "      <td>-999</td>\n",
       "      <td>-33</td>\n",
       "      <td>-256</td>\n",
       "      <td>-37</td>\n",
       "      <td>-446</td>\n",
       "      <td>-247</td>\n",
       "      <td>0</td>\n",
       "    </tr>\n",
       "  </tbody>\n",
       "</table>\n",
       "</div>"
      ],
      "text/plain": [
       "               rock  paper  scissors  rand  random_r_or_p  random_s_or_p  \\\n",
       "rock              0    999      -999    24            504             23   \n",
       "paper          -999      0       999   -22           -510            519   \n",
       "scissors        999   -999         0     0              0           -520   \n",
       "rand            -24     22         0     0            -56              0   \n",
       "random_r_or_p  -504    510         0    56              0            304   \n",
       "random_s_or_p   -23   -519       520     0           -304              0   \n",
       "random_s_or_r   526     21      -505    30            228           -282   \n",
       "copy_opponent     0      0         0     0              0              0   \n",
       "statistical    -998   -997      -999   -33           -256            -37   \n",
       "\n",
       "               random_s_or_r  copy_opponent  statistical  \n",
       "rock                    -526              0          998  \n",
       "paper                    -21              0          997  \n",
       "scissors                 505              0          999  \n",
       "rand                     -30              0           33  \n",
       "random_r_or_p           -228              0          256  \n",
       "random_s_or_p            282              0           37  \n",
       "random_s_or_r              0              0          446  \n",
       "copy_opponent              0              0          247  \n",
       "statistical             -446           -247            0  "
      ]
     },
     "execution_count": 226,
     "metadata": {},
     "output_type": "execute_result"
    }
   ],
   "source": [
    "for i in range(len(list_names)):\n",
    "    for j in range(i + 1, len(list_names)):\n",
    "        print(\n",
    "            f\"LOG: {list_names[i]} vs {list_names[j]}\", \n",
    "            end=\"\\r\"\n",
    "        )\n",
    "        \n",
    "        current_score = evaluate(\n",
    "            \"rps\", \n",
    "            [list_agents[i], list_agents[j]], \n",
    "            configuration={\"episodeSteps\": 1000}\n",
    "        )\n",
    "        \n",
    "        df_scores[list_names[i]][list_names[j]] = current_score[0][0]\n",
    "        df_scores[list_names[j]][list_names[i]] = current_score[0][1]\n",
    "\n",
    "df_scores"
   ]
  },
  {
   "cell_type": "code",
   "execution_count": null,
   "id": "6dd5a6bc",
   "metadata": {},
   "outputs": [],
   "source": []
  },
  {
   "cell_type": "code",
   "execution_count": null,
   "id": "b3c9e976",
   "metadata": {},
   "outputs": [],
   "source": []
  }
 ],
 "metadata": {
  "kernelspec": {
   "display_name": "Python 3 (ipykernel)",
   "language": "python",
   "name": "python3"
  },
  "language_info": {
   "codemirror_mode": {
    "name": "ipython",
    "version": 3
   },
   "file_extension": ".py",
   "mimetype": "text/x-python",
   "name": "python",
   "nbconvert_exporter": "python",
   "pygments_lexer": "ipython3",
   "version": "3.9.12"
  }
 },
 "nbformat": 4,
 "nbformat_minor": 5
}
